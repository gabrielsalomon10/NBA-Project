{
 "cells": [
  {
   "cell_type": "code",
   "execution_count": 2,
   "metadata": {},
   "outputs": [
    {
     "name": "stdout",
     "output_type": "stream",
     "text": [
      "    game_id  official_id first_name  last_name  jersey_num\n",
      "0  29600059         1140      Bruce  Alexander         9.0\n",
      "1  29600059         1165       Luis     Grillo         8.0\n",
      "2  29600059         1153        Joe   Crawford        17.0\n",
      "3  29600114         1147       Mike   Callahan        24.0\n",
      "4  29600114         1142       Dick    Bavetta        27.0\n",
      "*************************************\n",
      "<class 'pandas.core.frame.DataFrame'>\n",
      "RangeIndex: 70971 entries, 0 to 70970\n",
      "Data columns (total 5 columns):\n",
      " #   Column       Non-Null Count  Dtype  \n",
      "---  ------       --------------  -----  \n",
      " 0   game_id      70971 non-null  int64  \n",
      " 1   official_id  70971 non-null  int64  \n",
      " 2   first_name   70971 non-null  object \n",
      " 3   last_name    70971 non-null  object \n",
      " 4   jersey_num   70781 non-null  float64\n",
      "dtypes: float64(1), int64(2), object(2)\n",
      "memory usage: 2.7+ MB\n",
      "None\n",
      "*************************************\n",
      "            game_id   official_id    jersey_num\n",
      "count  7.097100e+04  7.097100e+04  70781.000000\n",
      "mean   2.201215e+07  6.954090e+05     39.341857\n",
      "std    5.676262e+06  3.295045e+07     21.700928\n",
      "min    1.050000e+07  1.000000e+00      0.000000\n",
      "25%    2.070015e+07  1.180000e+03     22.000000\n",
      "50%    2.130076e+07  2.002000e+03     38.000000\n",
      "75%    2.180109e+07  2.008340e+05     56.000000\n",
      "max    4.960009e+07  1.962938e+09    166.000000\n",
      "*************************************\n",
      "La cantidad de nulos es:\n",
      " game_id          0\n",
      "official_id      0\n",
      "first_name       0\n",
      "last_name        0\n",
      "jersey_num     190\n",
      "dtype: int64\n"
     ]
    }
   ],
   "source": [
    "import pandas as pd\n",
    "import matplotlib.pyplot as plt\n",
    "import seaborn as sns\n",
    "\n",
    "# Leer el archivo CSV\n",
    "df = pd.read_csv('officials.csv')\n",
    "\n",
    "# Mostrar las primeras filas del dataframe\n",
    "print(df.head())\n",
    "print(\"*************************************\")\n",
    "\n",
    "# Mostrar la información básica del dataframe\n",
    "print(df.info())\n",
    "print(\"*************************************\")\n",
    "\n",
    "# Mostrar las estadísticas descriptivas del dataframe\n",
    "print(df.describe())\n",
    "print(\"*************************************\")\n",
    "\n",
    "# Visualizar la distribución de una variable numérica\n",
    "#sns.histplot(df['game_id'])\n",
    "\n",
    "# Visualizar la relación entre dos variables numéricas\n",
    "#sns.scatterplot(x='columna_x', y='columna_y', data=df)\n",
    "\n",
    "# Identificar valores nulos o missing\n",
    "print(\"La cantidad de nulos es:\\n\", df.isnull().sum())\n",
    "\n",
    "# Identificar outliers en una variable numérica\n",
    "#Q1 = df['game_id'].quantile(0.25)\n",
    "#Q3 = df['game_id'].quantile(0.75)\n",
    "#IQR = Q3 - Q1\n",
    "#print(df[~((df['game_id'] < (Q1 - 1.5 * IQR)) | (df['game_id'] > (Q3 + 1.5 * IQR)))])"
   ]
  }
 ],
 "metadata": {
  "kernelspec": {
   "display_name": "Python 3",
   "language": "python",
   "name": "python3"
  },
  "language_info": {
   "codemirror_mode": {
    "name": "ipython",
    "version": 3
   },
   "file_extension": ".py",
   "mimetype": "text/x-python",
   "name": "python",
   "nbconvert_exporter": "python",
   "pygments_lexer": "ipython3",
   "version": "3.10.11"
  }
 },
 "nbformat": 4,
 "nbformat_minor": 2
}
