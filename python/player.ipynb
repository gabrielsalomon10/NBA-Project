{
 "cells": [
  {
   "cell_type": "code",
   "execution_count": 2,
   "metadata": {},
   "outputs": [
    {
     "name": "stdout",
     "output_type": "stream",
     "text": [
      "      id            full_name first_name     last_name  is_active\n",
      "0  76001       Alaa Abdelnaby       Alaa     Abdelnaby          0\n",
      "1  76002      Zaid Abdul-Aziz       Zaid    Abdul-Aziz          0\n",
      "2  76003  Kareem Abdul-Jabbar     Kareem  Abdul-Jabbar          0\n",
      "3     51   Mahmoud Abdul-Rauf    Mahmoud    Abdul-Rauf          0\n",
      "4   1505    Tariq Abdul-Wahad      Tariq   Abdul-Wahad          0\n",
      "HEAD *************************************\n",
      "<class 'pandas.core.frame.DataFrame'>\n",
      "RangeIndex: 4831 entries, 0 to 4830\n",
      "Data columns (total 5 columns):\n",
      " #   Column      Non-Null Count  Dtype \n",
      "---  ------      --------------  ----- \n",
      " 0   id          4831 non-null   int64 \n",
      " 1   full_name   4831 non-null   object\n",
      " 2   first_name  4825 non-null   object\n",
      " 3   last_name   4831 non-null   object\n",
      " 4   is_active   4831 non-null   int64 \n",
      "dtypes: int64(2), object(3)\n",
      "memory usage: 188.8+ KB\n",
      "None\n",
      "INFO *************************************\n",
      "                 id    is_active\n",
      "count  4.831000e+03  4831.000000\n",
      "mean   3.332050e+05     0.120472\n",
      "std    5.771910e+05     0.325546\n",
      "min    2.000000e+00     0.000000\n",
      "25%    7.611750e+04     0.000000\n",
      "50%    7.759900e+04     0.000000\n",
      "75%    2.021630e+05     0.000000\n",
      "max    1.631466e+06     1.000000\n",
      "DESCRIBE *************************************\n",
      "La cantidad de nulos es:\n",
      " id            0\n",
      "full_name     0\n",
      "first_name    6\n",
      "last_name     0\n",
      "is_active     0\n",
      "dtype: int64\n",
      "*************************************\n"
     ]
    }
   ],
   "source": [
    "import pandas as pd\n",
    "import matplotlib.pyplot as plt\n",
    "import seaborn as sns\n",
    "\n",
    "# Leer el archivo CSV\n",
    "df = pd.read_csv('player.csv')\n",
    "\n",
    "# Mostrar las primeras filas del dataframe\n",
    "print(df.head())\n",
    "print(\"HEAD *************************************\")\n",
    "\n",
    "# Mostrar la información básica del dataframe\n",
    "print(df.info())\n",
    "print(\"INFO *************************************\")\n",
    "\n",
    "# Mostrar las estadísticas descriptivas del dataframe\n",
    "print(df.describe())\n",
    "print(\"DESCRIBE *************************************\")\n",
    "\n",
    "# Visualizar la distribución de una variable numérica\n",
    "#sns.histplot(df['game_id'])\n",
    "\n",
    "# Visualizar la relación entre dos variables numéricas\n",
    "#sns.scatterplot(x='columna_x', y='columna_y', data=df)\n",
    "\n",
    "# Identificar valores nulos o missing\n",
    "print(\"La cantidad de nulos es:\\n\", df.isnull().sum())\n",
    "print(\"*************************************\")\n",
    "\n",
    "# Identificar outliers en una variable numérica\n",
    "#Q1 = df['game_id'].quantile(0.25)\n",
    "#Q3 = df['game_id'].quantile(0.75)\n",
    "#IQR = Q3 - Q1\n",
    "#print(df[~((df['game_id'] < (Q1 - 1.5 * IQR)) | (df['game_id'] > (Q3 + 1.5 * IQR)))])"
   ]
  }
 ],
 "metadata": {
  "kernelspec": {
   "display_name": "Python 3",
   "language": "python",
   "name": "python3"
  },
  "language_info": {
   "codemirror_mode": {
    "name": "ipython",
    "version": 3
   },
   "file_extension": ".py",
   "mimetype": "text/x-python",
   "name": "python",
   "nbconvert_exporter": "python",
   "pygments_lexer": "ipython3",
   "version": "3.10.11"
  }
 },
 "nbformat": 4,
 "nbformat_minor": 2
}
